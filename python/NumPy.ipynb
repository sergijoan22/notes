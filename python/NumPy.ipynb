{
  "nbformat": 4,
  "nbformat_minor": 0,
  "metadata": {
    "colab": {
      "provenance": [],
      "collapsed_sections": [
        "IGFUEoHwRcLA",
        "iH4Sbnqwm6iC",
        "GoHBRTamdFhr",
        "HRmfJ67UcV09",
        "_yZ-fLKBlqB4",
        "_l1jc2Ublsb7",
        "kPrBvZ1-l4It",
        "fgOkSYsOqW6u",
        "cMT9mBJDhkYM",
        "Y2vnci6zpynh",
        "4lP9dIJR6zqS",
        "BWELTsJB3kVO",
        "A4rbXOU6o-YR",
        "PvdP_5LtwdC1",
        "qbOHtLpDlaCh",
        "7kZlPj55QgCy",
        "ojlHCZLVQJsi",
        "yBR5SPXVliC5",
        "eKhnh_ckykg3",
        "T0IZpA9e90oV"
      ],
      "authorship_tag": "ABX9TyPnsuz5wtUUlWi3nXLHhfmr",
      "include_colab_link": true
    },
    "kernelspec": {
      "name": "python3",
      "display_name": "Python 3"
    },
    "language_info": {
      "name": "python"
    }
  },
  "cells": [
    {
      "cell_type": "markdown",
      "metadata": {
        "id": "view-in-github",
        "colab_type": "text"
      },
      "source": [
        "<a href=\"https://colab.research.google.com/github/sergijoan22/notes/blob/main/python/NumPy.ipynb\" target=\"_parent\"><img src=\"https://colab.research.google.com/assets/colab-badge.svg\" alt=\"Open In Colab\"/></a>"
      ]
    },
    {
      "cell_type": "markdown",
      "source": [
        "# NumPy"
      ],
      "metadata": {
        "id": "ICom4yfTazzi"
      }
    },
    {
      "cell_type": "markdown",
      "source": [
        "NumPy uses arrays which are stored at one singe place unlike built-in lists, offering better performance."
      ],
      "metadata": {
        "id": "oCs-R3dNa2Be"
      }
    },
    {
      "cell_type": "code",
      "source": [
        "import numpy as np"
      ],
      "metadata": {
        "id": "t0oHFVBMbJh9"
      },
      "execution_count": 224,
      "outputs": []
    },
    {
      "cell_type": "markdown",
      "source": [
        "## Create an array"
      ],
      "metadata": {
        "id": "IGFUEoHwRcLA"
      }
    },
    {
      "cell_type": "markdown",
      "source": [
        "Arrays are created using iterable items like lists, tuples or sets."
      ],
      "metadata": {
        "id": "gNJS7O-uRruh"
      }
    },
    {
      "cell_type": "code",
      "source": [
        "arr1 = np.array([[1, 4, 3, 5], [4, 5, 6, 8]])\n",
        "arr2 = np.arange(1, 20, 2) # with a range\n",
        "\n",
        "print(arr1)\n",
        "print('------------------')\n",
        "print(arr2)"
      ],
      "metadata": {
        "colab": {
          "base_uri": "https://localhost:8080/"
        },
        "id": "9DoeGvg-Re3F",
        "outputId": "cadb2e13-af99-449b-df71-0987bf2e1d6d"
      },
      "execution_count": 228,
      "outputs": [
        {
          "output_type": "stream",
          "name": "stdout",
          "text": [
            "[[1 4 3 5]\n",
            " [4 5 6 8]]\n",
            "------------------\n",
            "[ 1  3  5  7  9 11 13 15 17 19]\n",
            "------------------\n",
            "[[0. 0. 0. 0.]\n",
            " [0. 0. 0. 0.]\n",
            " [0. 0. 0. 0.]]\n"
          ]
        }
      ]
    },
    {
      "cell_type": "markdown",
      "source": [
        "## Array data types"
      ],
      "metadata": {
        "id": "iH4Sbnqwm6iC"
      }
    },
    {
      "cell_type": "markdown",
      "source": [
        "In addition to the default Python types (string, integer, float, boolean and complex), NumPy has its own data types which uses for the arrays:\n",
        "- i: integer\n",
        "- b: boolean\n",
        "- u: unsigned integer\n",
        "- f: float\n",
        "- c: complex float\n",
        "- m: timedelta\n",
        "- M: datetime\n",
        "- O: object\n",
        "- S: string\n",
        "- U: unicode string\n",
        "- V: fixed chunk of memory for other type ( void )\n",
        "\n",
        "So, if elements are integer values, it is the numpy integer, not python's.\n",
        "All array elements must have the same data type.\n",
        "i, u, f, S and U types allow to define size as well, like i16 or S4, which is the number of bytes for each element.\n",
        "ValueError if one element can not be converted to the choosen data type."
      ],
      "metadata": {
        "id": "TvmhkgcqQ8WR"
      }
    },
    {
      "cell_type": "markdown",
      "source": [
        "## Array attributes"
      ],
      "metadata": {
        "id": "GoHBRTamdFhr"
      }
    },
    {
      "cell_type": "code",
      "source": [
        "arr = np.array([[1, 4, 3, 5], [4, 5, 6, 8]])\n",
        "\n",
        "print(\"number of dimensions: \", arr.ndim)\n",
        "print(\"size of each dimension: \", arr.shape)\n",
        "print(\"number of elements: \", arr.size)\n",
        "print(\"data type of the elements: \", arr.dtype) # One float element converts all other to float as well\n",
        "print(\"check if the array owns its data or uses other array's: \", arr.base) # If it is an array view, it returns the original array (None if not)"
      ],
      "metadata": {
        "colab": {
          "base_uri": "https://localhost:8080/"
        },
        "id": "w-rw-DtsdH1S",
        "outputId": "72865b29-e4be-4ce6-df34-4b002ac35563"
      },
      "execution_count": 212,
      "outputs": [
        {
          "output_type": "stream",
          "name": "stdout",
          "text": [
            "number of dimensions:  2\n",
            "size of each dimension:  (2, 4)\n",
            "number of elements:  8\n",
            "data type of the elements:  int64\n",
            "check if the array owns its data or uses other array's:  None\n"
          ]
        }
      ]
    },
    {
      "cell_type": "markdown",
      "source": [
        "## Access an array"
      ],
      "metadata": {
        "id": "HRmfJ67UcV09"
      }
    },
    {
      "cell_type": "markdown",
      "source": [
        "### Array indexing"
      ],
      "metadata": {
        "id": "_yZ-fLKBlqB4"
      }
    },
    {
      "cell_type": "code",
      "source": [
        "arr = np.array([[1, 2, 3, 4], [11, 22, 33, 44]])\n",
        "\n",
        "print(arr[0])\n",
        "print(arr[0][0])\n",
        "print(arr[0, 0]) # same that [0, 0]"
      ],
      "metadata": {
        "colab": {
          "base_uri": "https://localhost:8080/"
        },
        "id": "DyZXkRrHhN7y",
        "outputId": "34890901-a4eb-4913-c445-571f613bba49"
      },
      "execution_count": null,
      "outputs": [
        {
          "output_type": "stream",
          "name": "stdout",
          "text": [
            "[1 2 3 4]\n",
            "1\n",
            "1\n"
          ]
        }
      ]
    },
    {
      "cell_type": "markdown",
      "source": [
        "Negative indexing to acces element from the end"
      ],
      "metadata": {
        "id": "B0ZDU3N6h5CJ"
      }
    },
    {
      "cell_type": "code",
      "source": [
        "arr = np.array([[1, 2, 3, 4], [11, 22, 33, 44]])\n",
        "\n",
        "print(arr[-1])\n",
        "print(arr[-1, -1])"
      ],
      "metadata": {
        "colab": {
          "base_uri": "https://localhost:8080/"
        },
        "id": "U9eaMt7Zh8g5",
        "outputId": "0e3e53c5-99fb-4eb7-d9f2-72790bfd641e"
      },
      "execution_count": null,
      "outputs": [
        {
          "output_type": "stream",
          "name": "stdout",
          "text": [
            "[11 22 33 44]\n",
            "44\n"
          ]
        }
      ]
    },
    {
      "cell_type": "markdown",
      "source": [
        "### Array slicing"
      ],
      "metadata": {
        "id": "_l1jc2Ublsb7"
      }
    },
    {
      "cell_type": "code",
      "source": [
        "arr = np.array([1, 2, 3, 4, 5, 6, 7, 8, 9])\n",
        "\n",
        "print(\"First three elements: \", arr[0:3])\n",
        "print(\"Since the 6th element: \", arr[5:])\n",
        "print(\"Until the 4th element: \", arr[:4])\n",
        "print(\"Last 3 elements: \", arr[-3:])\n",
        "print(\"3rd and 2nd last elements: \", arr[-3:-1])\n",
        "print(\"From the third take one element every two: \", arr[2::2])"
      ],
      "metadata": {
        "colab": {
          "base_uri": "https://localhost:8080/"
        },
        "id": "GLHnJh3OiQXR",
        "outputId": "a49db2e0-8992-495f-b576-0960e3d26d1e"
      },
      "execution_count": null,
      "outputs": [
        {
          "output_type": "stream",
          "name": "stdout",
          "text": [
            "First three elements:  [1 2 3]\n",
            "Since the 6th element:  [6 7 8 9]\n",
            "Until the 4th element:  [1 2 3 4]\n",
            "Last 3 elements:  [7 8 9]\n",
            "3rd and 2nd last elements:  [7 8]\n",
            "From the third take one element every two:  [3 5 7 9]\n"
          ]
        }
      ]
    },
    {
      "cell_type": "code",
      "source": [
        "arr = np.array([[1, 2, 3, 4], [11, 22, 33, 44]])\n",
        "\n",
        "print(\"First two elements of second subarray: \", arr[1, 0:2])\n",
        "print(\"Second element of each subarray: \", arr[:, 1])"
      ],
      "metadata": {
        "colab": {
          "base_uri": "https://localhost:8080/"
        },
        "id": "3V2hheY0lDjV",
        "outputId": "03861c3b-bcfc-4c85-ad36-e2bb33d2abfc"
      },
      "execution_count": null,
      "outputs": [
        {
          "output_type": "stream",
          "name": "stdout",
          "text": [
            "First two elements of second subarray:  [11 22]\n",
            "Second element of each subarray:  [ 2 22]\n"
          ]
        }
      ]
    },
    {
      "cell_type": "markdown",
      "source": [
        "### Array iteration"
      ],
      "metadata": {
        "id": "kPrBvZ1-l4It"
      }
    },
    {
      "cell_type": "markdown",
      "source": [
        "1-D array"
      ],
      "metadata": {
        "id": "lqz9Hq0SmrTs"
      }
    },
    {
      "cell_type": "code",
      "source": [
        "arr = np.array([1, 2, 3])\n",
        "\n",
        "for x in arr:\n",
        "  print(x, end = ' / ')"
      ],
      "metadata": {
        "colab": {
          "base_uri": "https://localhost:8080/"
        },
        "id": "ilHOVU1kl7kE",
        "outputId": "84e63869-b7fe-467a-a4e3-c24c4ab41f31"
      },
      "execution_count": 26,
      "outputs": [
        {
          "output_type": "stream",
          "name": "stdout",
          "text": [
            "1 / 2 / 3 / "
          ]
        }
      ]
    },
    {
      "cell_type": "markdown",
      "source": [
        "Iterate n-D arrays with `nditer` avoids having to nest one for loop per dimension (An alternative `ndenumerate` gives a tuple with the element and its position)."
      ],
      "metadata": {
        "id": "JZ1lO5rtm0Aa"
      }
    },
    {
      "cell_type": "code",
      "source": [
        "arr = np.array([[1, 2, 3], [11, 22, 33]])\n",
        "\n",
        "for x in np.nditer(arr):\n",
        "  print(x, end = ' / ')\n",
        "\n",
        "print('\\n')\n",
        "\n",
        "# to iterate elements while cast them (does not affect the array)\n",
        "for x in np.nditer(arr, flags=['buffered'], op_dtypes=['S']):\n",
        "  print(x, end = ' / ')"
      ],
      "metadata": {
        "colab": {
          "base_uri": "https://localhost:8080/"
        },
        "id": "S1jPMu3kmV2T",
        "outputId": "6e7730b8-5869-4985-d35b-e2eb1fedcc4a"
      },
      "execution_count": 43,
      "outputs": [
        {
          "output_type": "stream",
          "name": "stdout",
          "text": [
            "1 / 2 / 3 / 11 / 22 / 33 / \n",
            "\n",
            "b'1' / b'2' / b'3' / b'11' / b'22' / b'33' / "
          ]
        }
      ]
    },
    {
      "cell_type": "markdown",
      "source": [
        "## Copy an array"
      ],
      "metadata": {
        "id": "fgOkSYsOqW6u"
      }
    },
    {
      "cell_type": "markdown",
      "source": [
        "- **Array copy**: A completly new independent array is created\n",
        "- **Array view**: A view array object is created which uses the data of the original array. Changes in the view do not alter the original array unless it is a change in the underlying data values: Reshaping or changing the dtype do not affect the original data."
      ],
      "metadata": {
        "id": "FZpNMREereK-"
      }
    },
    {
      "cell_type": "code",
      "source": [
        "arr = np.array([[1, 2, 3, 4], [11, 22, 33, 44]])\n",
        "\n",
        "arr_c = arr.copy() # this creates a new array\n",
        "arr_r = arr # this creates in arr_v a reference to arr\n",
        "arr_v  = arr.view() # this creates a view of arr\n",
        "\n",
        "arr[0, 0] = 100\n",
        "\n",
        "print(arr_c[0, 0])\n",
        "print(arr_r[0, 0])\n",
        "print(arr_v[0, 0])"
      ],
      "metadata": {
        "colab": {
          "base_uri": "https://localhost:8080/"
        },
        "id": "KoouchF9qZIf",
        "outputId": "f3476c1b-04b5-48d3-b8a0-75ee713ead39"
      },
      "execution_count": null,
      "outputs": [
        {
          "output_type": "stream",
          "name": "stdout",
          "text": [
            "[[100   2   3   4]\n",
            " [ 11  22  33  44]]\n"
          ]
        }
      ]
    },
    {
      "cell_type": "markdown",
      "source": [
        "## Modify an array"
      ],
      "metadata": {
        "id": "cMT9mBJDhkYM"
      }
    },
    {
      "cell_type": "markdown",
      "source": [
        "### Change data type of an array"
      ],
      "metadata": {
        "id": "Y2vnci6zpynh"
      }
    },
    {
      "cell_type": "code",
      "source": [
        "arr = np.array([[1, 2, 3, 4], [11, 22, 33, 44]])\n",
        "arr2 = arr.astype('f')\n",
        "print(arr2)"
      ],
      "metadata": {
        "colab": {
          "base_uri": "https://localhost:8080/"
        },
        "id": "GyAihlcdpmWO",
        "outputId": "a8bf5747-fcf4-47b9-ba87-3a10ce52c611"
      },
      "execution_count": null,
      "outputs": [
        {
          "output_type": "stream",
          "name": "stdout",
          "text": [
            "[[ 1.  2.  3.  4.]\n",
            " [11. 22. 33. 44.]]\n"
          ]
        }
      ]
    },
    {
      "cell_type": "markdown",
      "source": [
        "### Filter an array"
      ],
      "metadata": {
        "id": "4lP9dIJR6zqS"
      }
    },
    {
      "cell_type": "markdown",
      "source": [
        "Done creating a boolean index lists which says for each element if it must be filtered or not."
      ],
      "metadata": {
        "id": "neWPNreU85jy"
      }
    },
    {
      "cell_type": "code",
      "source": [
        "arr = np.array([1, 2, 3, 4, 5, 6, 7, 8, 9])\n",
        "arr_to_filt = (arr%2 == 1) # calculates if each element is unpair\n",
        "print(arr_to_filt)\n",
        "print('------------------')\n",
        "arr = arr[arr_to_filt] # filters out pair elements\n",
        "print(arr)"
      ],
      "metadata": {
        "colab": {
          "base_uri": "https://localhost:8080/"
        },
        "id": "Ymj2iDX861Vv",
        "outputId": "25446a43-5ffa-4e27-f0af-016e434e78f2"
      },
      "execution_count": 175,
      "outputs": [
        {
          "output_type": "stream",
          "name": "stdout",
          "text": [
            "[ True False  True False  True False  True False  True]\n",
            "------------------\n",
            "[1 3 5 7 9]\n"
          ]
        }
      ]
    },
    {
      "cell_type": "markdown",
      "source": [
        "Another way"
      ],
      "metadata": {
        "id": "M4XkQ_aj8CpP"
      }
    },
    {
      "cell_type": "code",
      "source": [
        "arr = np.array([1, 2, 3, 4, 5, 6, 7, 8, 9])\n",
        "arr_to_filt =[]\n",
        "\n",
        "for x in arr:\n",
        "    if x%2 == 0:\n",
        "        arr_to_filt.append(False)\n",
        "    else:\n",
        "        arr_to_filt.append(True)\n",
        "print(arr_to_filt)\n",
        "print('------------------')\n",
        "arr = arr[arr_to_filt] # filters out pair elements\n",
        "print(arr)"
      ],
      "metadata": {
        "colab": {
          "base_uri": "https://localhost:8080/"
        },
        "id": "gOGoZA9a8CSR",
        "outputId": "d8e0e8dd-30c6-4cae-cd0e-0f5b9ad16ab9"
      },
      "execution_count": 176,
      "outputs": [
        {
          "output_type": "stream",
          "name": "stdout",
          "text": [
            "[True, False, True, False, True, False, True, False, True]\n",
            "------------------\n",
            "[1 3 5 7 9]\n"
          ]
        }
      ]
    },
    {
      "cell_type": "markdown",
      "source": [
        "### Sort an array"
      ],
      "metadata": {
        "id": "BWELTsJB3kVO"
      }
    },
    {
      "cell_type": "markdown",
      "source": [
        "Sort by elements"
      ],
      "metadata": {
        "id": "4S1zYrxG4_m2"
      }
    },
    {
      "cell_type": "code",
      "source": [
        "arr = np.array([6, 3, 9, 8, 1, 4, 2, 7])\n",
        "arr.sort()\n",
        "\n",
        "print(arr)"
      ],
      "metadata": {
        "colab": {
          "base_uri": "https://localhost:8080/"
        },
        "id": "ObFfkdC53l6k",
        "outputId": "a9df150d-97e2-4c79-ef09-aa4d6b6a6395"
      },
      "execution_count": 141,
      "outputs": [
        {
          "output_type": "stream",
          "name": "stdout",
          "text": [
            "[1 2 3 4 6 7 8 9]\n"
          ]
        }
      ]
    },
    {
      "cell_type": "code",
      "source": [
        "arr = np.array([[6, 3, 9, 8], [ 1, 4, 2, 7]])\n",
        "arr.sort() # sorts within each dimension\n",
        "\n",
        "print(arr)"
      ],
      "metadata": {
        "colab": {
          "base_uri": "https://localhost:8080/"
        },
        "id": "OeihGFFf4kbv",
        "outputId": "20c7287e-24c1-4fbd-e58a-f1b4d6acdea4"
      },
      "execution_count": 142,
      "outputs": [
        {
          "output_type": "stream",
          "name": "stdout",
          "text": [
            "[[3 6 8 9]\n",
            " [1 2 4 7]]\n"
          ]
        }
      ]
    },
    {
      "cell_type": "markdown",
      "source": [
        "Sort by aggrupation of elements"
      ],
      "metadata": {
        "id": "hm5N-5BH5CBQ"
      }
    },
    {
      "cell_type": "code",
      "source": [
        "arr = np.array([[4, 8], [7, 3], [9, 2], [7, 3], [5, 2], [1, 3], [4, 5]])\n",
        "\n",
        "row_sums = arr.sum(axis=1) # array with the sum of each pair\n",
        "print(row_sums)\n",
        "print('------------------')\n",
        "sorted_indices = np.argsort(row_sums) # gives the index of the aggregated array from smallest to biggest\n",
        "print(sorted_indices)\n",
        "print('------------------')\n",
        "arr = arr[sorted_indices] # orders the array using the ordered indexs\n",
        "print(arr)"
      ],
      "metadata": {
        "colab": {
          "base_uri": "https://localhost:8080/"
        },
        "id": "7cGXp9cg5ERK",
        "outputId": "30d92952-1c93-49f3-eb0f-724b36c76108"
      },
      "execution_count": 155,
      "outputs": [
        {
          "output_type": "stream",
          "name": "stdout",
          "text": [
            "[12 10 11 10  7  4  9]\n",
            "------------------\n",
            "[5 4 6 1 3 2 0]\n",
            "------------------\n",
            "[[1 3]\n",
            " [5 2]\n",
            " [4 5]\n",
            " [7 3]\n",
            " [7 3]\n",
            " [9 2]\n",
            " [4 8]]\n"
          ]
        }
      ]
    },
    {
      "cell_type": "markdown",
      "source": [
        "### Join arrays"
      ],
      "metadata": {
        "id": "A4rbXOU6o-YR"
      }
    },
    {
      "cell_type": "markdown",
      "source": [
        "1-D arrays"
      ],
      "metadata": {
        "id": "tZtaz_RPsqMA"
      }
    },
    {
      "cell_type": "code",
      "source": [
        "arr1  = np.array([1, 2, 3, 4])\n",
        "arr2  = np.array([5, 6, 7, 8])\n",
        "\n",
        "arr = np.concatenate((arr1, arr2))\n",
        "\n",
        "print(arr)"
      ],
      "metadata": {
        "colab": {
          "base_uri": "https://localhost:8080/"
        },
        "id": "tuK_zFCVpANV",
        "outputId": "e9cfb6be-5b37-4324-ba7e-41116035a9ae"
      },
      "execution_count": 53,
      "outputs": [
        {
          "output_type": "stream",
          "name": "stdout",
          "text": [
            "[1 2 3 4 5 6 7 8]\n"
          ]
        }
      ]
    },
    {
      "cell_type": "markdown",
      "source": [
        "n-D arrays. Joins are based on axis.\n",
        "- `concatenate` joins arrays which must have the same size in all dimension except the axis one which can be vary.\n",
        "- `stack` joins arrays which may be the exact same size and stacks them in a new axis.\n",
        "- `hstack`, `vstack` and `dstack` are simplifications of `concatenate` each for a certain axis."
      ],
      "metadata": {
        "id": "6O_Ot_hwsr_A"
      }
    },
    {
      "cell_type": "code",
      "source": [
        "arr1 = np.array([[1, 2], [3, 4]])\n",
        "arr2 = np.array([[5, 6], [7, 8]])\n",
        "\n",
        "arr_c0 = np.concatenate((arr1, arr2), axis=0)\n",
        "arr_c1 = np.concatenate((arr1, arr2), axis=1)\n",
        "arr_s0 = np.stack((arr1, arr2), axis=0)\n",
        "arr_s1 = np.stack((arr1, arr2), axis=1)\n",
        "\n",
        "print(arr_c0, '\\n', arr_c0.shape)\n",
        "print('------------------')\n",
        "print(arr_c1, '\\n', arr_c1.shape)\n",
        "print('------------------')\n",
        "print(arr_s0, '\\n', arr_s0.shape)\n",
        "print('------------------')\n",
        "print(arr_s1, '\\n', arr_s1.shape)"
      ],
      "metadata": {
        "colab": {
          "base_uri": "https://localhost:8080/"
        },
        "id": "_POv75nfpl2W",
        "outputId": "0d0b5b67-7167-4244-8f55-8e5d18ebb6af"
      },
      "execution_count": 77,
      "outputs": [
        {
          "output_type": "stream",
          "name": "stdout",
          "text": [
            "[[1 2]\n",
            " [3 4]\n",
            " [5 6]\n",
            " [7 8]] \n",
            " (4, 2)\n",
            "------------------\n",
            "[[1 2 5 6]\n",
            " [3 4 7 8]] \n",
            " (2, 4)\n",
            "------------------\n",
            "[[[1 2]\n",
            "  [3 4]]\n",
            "\n",
            " [[5 6]\n",
            "  [7 8]]] \n",
            " (2, 2, 2)\n",
            "------------------\n",
            "[[[1 2]\n",
            "  [5 6]]\n",
            "\n",
            " [[3 4]\n",
            "  [7 8]]] \n",
            " (2, 2, 2)\n"
          ]
        }
      ]
    },
    {
      "cell_type": "markdown",
      "source": [
        "### Split arrays"
      ],
      "metadata": {
        "id": "PvdP_5LtwdC1"
      }
    },
    {
      "cell_type": "markdown",
      "source": [
        "1-D arrays"
      ],
      "metadata": {
        "id": "VEe7ntl3wfoT"
      }
    },
    {
      "cell_type": "code",
      "source": [
        "arr = np.array([1, 2, 3, 4, 5, 6])\n",
        "\n",
        "arr2 = np.array_split(arr, 4) # creates an array of arrays. If division is not exact, adjusted at the end\n",
        "\n",
        "print(arr2)\n",
        "print('------------------')\n",
        "print(arr2[0])"
      ],
      "metadata": {
        "colab": {
          "base_uri": "https://localhost:8080/"
        },
        "id": "OmsfdgSywd-u",
        "outputId": "fded85c6-246e-4eaa-9884-9c89f094d392"
      },
      "execution_count": 83,
      "outputs": [
        {
          "output_type": "stream",
          "name": "stdout",
          "text": [
            "[array([1, 2]), array([3, 4]), array([5]), array([6])]\n",
            "[1 2]\n"
          ]
        }
      ]
    },
    {
      "cell_type": "markdown",
      "source": [
        "n-D arrays."
      ],
      "metadata": {
        "id": "-fNXGw5GxLkb"
      }
    },
    {
      "cell_type": "code",
      "source": [
        "arr = np.array([[1, 2], [3, 4], [5, 6], [7, 8], [9, 10], [11, 12]])\n",
        "\n",
        "arr2 = np.array_split(arr, 3) # axis to split can be defined\n",
        "\n",
        "print(arr2)\n",
        "print('------------------')\n",
        "print(arr2[0])"
      ],
      "metadata": {
        "colab": {
          "base_uri": "https://localhost:8080/"
        },
        "id": "g-feFlMAxNZF",
        "outputId": "77d2ea79-d90c-4b2e-fd1a-68414ef26bc5"
      },
      "execution_count": 94,
      "outputs": [
        {
          "output_type": "stream",
          "name": "stdout",
          "text": [
            "[array([[1, 2],\n",
            "       [3, 4]]), array([[5, 6],\n",
            "       [7, 8]]), array([[ 9, 10],\n",
            "       [11, 12]])]\n",
            "------------------\n",
            "[[1 2]\n",
            " [3 4]]\n"
          ]
        }
      ]
    },
    {
      "cell_type": "markdown",
      "source": [
        "### Resize an array"
      ],
      "metadata": {
        "id": "qbOHtLpDlaCh"
      }
    },
    {
      "cell_type": "markdown",
      "source": [
        "Resize the elements within the dimensions:\n",
        "- New shape must have the same number of elements\n",
        "- It creates a view array"
      ],
      "metadata": {
        "id": "5oe7yRk-jCK8"
      }
    },
    {
      "cell_type": "code",
      "source": [
        "arr = np.array([[1, 2, 3, 4], [11, 22, 33, 44]])\n",
        "\n",
        "arr2 = arr.reshape((4, 2))\n",
        "\n",
        "print(arr)"
      ],
      "metadata": {
        "colab": {
          "base_uri": "https://localhost:8080/"
        },
        "id": "zxe3l8gsjFii",
        "outputId": "1ebfebf6-cd74-48d0-edc5-9d4ac620bf38"
      },
      "execution_count": 11,
      "outputs": [
        {
          "output_type": "stream",
          "name": "stdout",
          "text": [
            "[[ 1  2  3  4]\n",
            " [11 22 33 44]]\n"
          ]
        }
      ]
    },
    {
      "cell_type": "code",
      "source": [
        "arr = np.array([[1, 2, 3, 4], [11, 22, 33, 44]])\n",
        "\n",
        "arr2 = arr.reshape((-1, 2)) # one dimension size can be unknown (-1) and calculated by numpy\n",
        "\n",
        "print(arr2)"
      ],
      "metadata": {
        "colab": {
          "base_uri": "https://localhost:8080/"
        },
        "id": "u_70goWWk2kf",
        "outputId": "46ea80d1-ff9f-46e7-930d-0dd0f5a62c05"
      },
      "execution_count": 17,
      "outputs": [
        {
          "output_type": "stream",
          "name": "stdout",
          "text": [
            "[[ 1  2]\n",
            " [ 3  4]\n",
            " [11 22]\n",
            " [33 44]]\n"
          ]
        }
      ]
    },
    {
      "cell_type": "code",
      "source": [
        "arr = np.array([[1, 2, 3, 4], [11, 22, 33, 44]])\n",
        "\n",
        "arr2 = arr.reshape(-1)\n",
        "\n",
        "print(arr2)"
      ],
      "metadata": {
        "colab": {
          "base_uri": "https://localhost:8080/"
        },
        "id": "TcFbQGWGlKLs",
        "outputId": "4a63061b-c787-44a5-bb7a-0d9090ddf874"
      },
      "execution_count": 18,
      "outputs": [
        {
          "output_type": "stream",
          "name": "stdout",
          "text": [
            "[ 1  2  3  4 11 22 33 44]\n"
          ]
        }
      ]
    },
    {
      "cell_type": "markdown",
      "source": [
        "### Add an element"
      ],
      "metadata": {
        "id": "7kZlPj55QgCy"
      }
    },
    {
      "cell_type": "markdown",
      "source": [
        "Adds it at the end"
      ],
      "metadata": {
        "id": "fr7M9-PcTDfr"
      }
    },
    {
      "cell_type": "code",
      "source": [
        "arr = np.array([1, 3, 2])\n",
        "\n",
        "arr = np.append(arr, 7)\n",
        "\n",
        "print(arr)"
      ],
      "metadata": {
        "colab": {
          "base_uri": "https://localhost:8080/"
        },
        "id": "z7sDTUOuQhjO",
        "outputId": "067bce93-52dd-4373-b372-610804aa36d0"
      },
      "execution_count": 220,
      "outputs": [
        {
          "output_type": "stream",
          "name": "stdout",
          "text": [
            "[1 3 2 7]\n"
          ]
        }
      ]
    },
    {
      "cell_type": "markdown",
      "source": [
        "### Delete an element"
      ],
      "metadata": {
        "id": "ojlHCZLVQJsi"
      }
    },
    {
      "cell_type": "markdown",
      "source": [
        "Adds element at the defined indexes"
      ],
      "metadata": {
        "id": "6Y0HW4w1TF9Q"
      }
    },
    {
      "cell_type": "code",
      "source": [
        "arr = np.array([1, 2, 3, 4, 5, 6, 7, 8, 9])\n",
        "\n",
        "arr = np.delete(arr, (0, 1, -1))\n",
        "\n",
        "print(arr)"
      ],
      "metadata": {
        "colab": {
          "base_uri": "https://localhost:8080/"
        },
        "id": "zQkblOLRQJA8",
        "outputId": "853ba9f3-db49-4b26-95af-2307f0f08718"
      },
      "execution_count": 230,
      "outputs": [
        {
          "output_type": "stream",
          "name": "stdout",
          "text": [
            "[3 4 5 6 7 8]\n"
          ]
        }
      ]
    },
    {
      "cell_type": "markdown",
      "source": [
        "### Modify elements"
      ],
      "metadata": {
        "id": "yBR5SPXVliC5"
      }
    },
    {
      "cell_type": "markdown",
      "source": [
        "Add a value at a certain position."
      ],
      "metadata": {
        "id": "e8JHyPlW2F0p"
      }
    },
    {
      "cell_type": "code",
      "source": [
        "arr = np.array([1, 3, 5, 6, 8, 10, 12])\n",
        "\n",
        "arr = np.insert(arr, 2, 0) # several values and position can be passed\n",
        "print(arr)"
      ],
      "metadata": {
        "colab": {
          "base_uri": "https://localhost:8080/"
        },
        "id": "23JeKkCV2E_e",
        "outputId": "f08b5fed-988b-4adf-940e-c971f6a824bd"
      },
      "execution_count": 131,
      "outputs": [
        {
          "output_type": "stream",
          "name": "stdout",
          "text": [
            "[ 1  3  0  5  6  8 10 12]\n"
          ]
        }
      ]
    },
    {
      "cell_type": "markdown",
      "source": [
        "Modify a value"
      ],
      "metadata": {
        "id": "W0nNKPYa2I1r"
      }
    },
    {
      "cell_type": "code",
      "source": [
        "arr = np.array([[1, 2, 3, 4], [11, 22, 33, 44]])\n",
        "\n",
        "print(arr[0])\n",
        "arr[0] = arr[1] + 1\n",
        "print(arr[0])"
      ],
      "metadata": {
        "colab": {
          "base_uri": "https://localhost:8080/"
        },
        "id": "prcyfaPlhnfc",
        "outputId": "7e0e49df-373b-4152-9852-9860ede06eba"
      },
      "execution_count": null,
      "outputs": [
        {
          "output_type": "stream",
          "name": "stdout",
          "text": [
            "[1 2 3 4]\n",
            "[12 23 34 45]\n"
          ]
        }
      ]
    },
    {
      "cell_type": "markdown",
      "source": [
        "Modify all values"
      ],
      "metadata": {
        "id": "CkABuDsm2LA2"
      }
    },
    {
      "cell_type": "code",
      "source": [
        "arr1  = np.array([1, 2, 3, 4])\n",
        "arr2  = np.array([5, 6, 7, 8])\n",
        "\n",
        "print(arr1 * arr2)"
      ],
      "metadata": {
        "colab": {
          "base_uri": "https://localhost:8080/"
        },
        "id": "YER5eeTapT6_",
        "outputId": "fd6e9734-3eac-4ebb-f658-5e1c01ad20a5"
      },
      "execution_count": 50,
      "outputs": [
        {
          "output_type": "stream",
          "name": "stdout",
          "text": [
            "[ 5 12 21 32]\n"
          ]
        }
      ]
    },
    {
      "cell_type": "markdown",
      "source": [
        "## Search an array"
      ],
      "metadata": {
        "id": "eKhnh_ckykg3"
      }
    },
    {
      "cell_type": "markdown",
      "source": [
        "`where` creates a tuple with the position of elements which fullfill a condition."
      ],
      "metadata": {
        "id": "YZhX8ius1cfL"
      }
    },
    {
      "cell_type": "code",
      "source": [
        "arr = np.array([[1, -2, 3, 4], [11, 22, -33, 44]])\n",
        "\n",
        "x = np.where(arr < 0)\n",
        "\n",
        "print(x)\n",
        "print('------------------')\n",
        "print(x[0])\n",
        "print('------------------')\n",
        "print(arr[x])"
      ],
      "metadata": {
        "colab": {
          "base_uri": "https://localhost:8080/"
        },
        "id": "NS_927mnymqW",
        "outputId": "19b6d1ef-3502-4a42-d878-4cb87f910616"
      },
      "execution_count": 114,
      "outputs": [
        {
          "output_type": "stream",
          "name": "stdout",
          "text": [
            "(array([0, 1]), array([1, 2]))\n",
            "------------------\n",
            "[0 1]\n",
            "------------------\n",
            "[ -2 -33]\n"
          ]
        }
      ]
    },
    {
      "cell_type": "markdown",
      "source": [
        "`searchsorted` is intended to work with sorted arrays and it gives the index where a new value should be added to keep the order by finding the first element bigger:\n",
        "- `side=right` argument to search backwards\n",
        "- More than one value can be search, returning an array with the indexes."
      ],
      "metadata": {
        "id": "VEQvnd4t1j2B"
      }
    },
    {
      "cell_type": "code",
      "source": [
        "arr = np.array([1, 3, 5, 6, 8, 10, 12])\n",
        "\n",
        "x = np.searchsorted(arr, 4)\n",
        "print(x)"
      ],
      "metadata": {
        "colab": {
          "base_uri": "https://localhost:8080/"
        },
        "id": "LkmRrqB-1Mhk",
        "outputId": "55676c1a-56d9-4a32-aed9-dbaa2a6248d4"
      },
      "execution_count": 120,
      "outputs": [
        {
          "output_type": "stream",
          "name": "stdout",
          "text": [
            "2\n",
            "[ 1  3  4  5  6  8 10 12]\n"
          ]
        }
      ]
    },
    {
      "cell_type": "markdown",
      "source": [
        "## Create a random array"
      ],
      "metadata": {
        "id": "T0IZpA9e90oV"
      }
    },
    {
      "cell_type": "markdown",
      "source": [
        "Random in NumPy offers many ways to create arrays of random values: From a range, with given possibilities and their probabilities, following certain distributions, etc.\n"
      ],
      "metadata": {
        "id": "13EPdNmi-DdK"
      }
    },
    {
      "cell_type": "code",
      "source": [
        "np.random.rand(2, 2)"
      ],
      "metadata": {
        "colab": {
          "base_uri": "https://localhost:8080/"
        },
        "id": "vOCVjS9G-QCj",
        "outputId": "e3f64835-f370-4270-a2a2-5eee3a46306b"
      },
      "execution_count": 181,
      "outputs": [
        {
          "output_type": "execute_result",
          "data": {
            "text/plain": [
              "array([[0.50635428, 0.18837499],\n",
              "       [0.56083436, 0.4761958 ]])"
            ]
          },
          "metadata": {},
          "execution_count": 181
        }
      ]
    },
    {
      "cell_type": "code",
      "source": [
        "np.random.choice([1, 2, 3, 4], p=[0.4, 0.3, 0.2, 0.1], size=(4, 4))"
      ],
      "metadata": {
        "colab": {
          "base_uri": "https://localhost:8080/"
        },
        "id": "JP-jzrRv-fRZ",
        "outputId": "7c5c2f21-e4e2-4ad5-b037-c7ad545bedd5"
      },
      "execution_count": 190,
      "outputs": [
        {
          "output_type": "execute_result",
          "data": {
            "text/plain": [
              "array([[2, 2, 3, 1],\n",
              "       [2, 1, 1, 1],\n",
              "       [1, 3, 1, 1],\n",
              "       [2, 3, 4, 2]])"
            ]
          },
          "metadata": {},
          "execution_count": 190
        }
      ]
    },
    {
      "cell_type": "code",
      "source": [
        "arr = np.array([1, 2, 3, 4, 5])\n",
        "np.random.shuffle(arr) # modifies the array, `permutation` returns a new array\n",
        "print(arr)"
      ],
      "metadata": {
        "colab": {
          "base_uri": "https://localhost:8080/"
        },
        "id": "wLB9MsP5_NqV",
        "outputId": "6ac1b718-3e8a-4c4f-89b2-56f45ddf825c"
      },
      "execution_count": 197,
      "outputs": [
        {
          "output_type": "stream",
          "name": "stdout",
          "text": [
            "[4 2 1 3 5]\n"
          ]
        }
      ]
    },
    {
      "cell_type": "code",
      "source": [
        "x = np.random.normal(loc=5, scale=2, size=(10)) # create random values using a normal distribution with mean = 5 and std = 2\n",
        "\n",
        "print(x)"
      ],
      "metadata": {
        "colab": {
          "base_uri": "https://localhost:8080/"
        },
        "id": "7ewN_QUZ_p8L",
        "outputId": "11eb6cd2-c5ac-48ed-cc56-f2d2fffa78d0"
      },
      "execution_count": 205,
      "outputs": [
        {
          "output_type": "stream",
          "name": "stdout",
          "text": [
            "[2.21576404 7.36210163 5.56827321 8.44037152 6.15530467 6.25293821\n",
            " 7.58661506 3.08643354 4.53034687 6.95395152]\n"
          ]
        }
      ]
    }
  ]
}